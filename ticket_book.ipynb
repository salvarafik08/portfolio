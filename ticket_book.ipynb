{
  "nbformat": 4,
  "nbformat_minor": 0,
  "metadata": {
    "colab": {
      "provenance": [],
      "authorship_tag": "ABX9TyMJ5GFm2Ed/rTisP8u5Yhqn",
      "include_colab_link": true
    },
    "kernelspec": {
      "name": "python3",
      "display_name": "Python 3"
    },
    "language_info": {
      "name": "python"
    }
  },
  "cells": [
    {
      "cell_type": "markdown",
      "metadata": {
        "id": "view-in-github",
        "colab_type": "text"
      },
      "source": [
        "<a href=\"https://colab.research.google.com/github/salvarafik08/portfolio/blob/main/ticket_book.ipynb\" target=\"_parent\"><img src=\"https://colab.research.google.com/assets/colab-badge.svg\" alt=\"Open In Colab\"/></a>"
      ]
    },
    {
      "cell_type": "code",
      "execution_count": 1,
      "metadata": {
        "colab": {
          "base_uri": "https://localhost:8080/",
          "height": 348
        },
        "id": "50KEMET7FYki",
        "outputId": "942afdb0-eb33-4d9f-cd29-3cea2ea43758"
      },
      "outputs": [
        {
          "output_type": "error",
          "ename": "TclError",
          "evalue": "no display name and no $DISPLAY environment variable",
          "traceback": [
            "\u001b[0;31m---------------------------------------------------------------------------\u001b[0m",
            "\u001b[0;31mTclError\u001b[0m                                  Traceback (most recent call last)",
            "\u001b[0;32m/tmp/ipython-input-1-721988303.py\u001b[0m in \u001b[0;36m<cell line: 0>\u001b[0;34m()\u001b[0m\n\u001b[1;32m     65\u001b[0m \u001b[0;34m\u001b[0m\u001b[0m\n\u001b[1;32m     66\u001b[0m \u001b[0;31m# Run App\u001b[0m\u001b[0;34m\u001b[0m\u001b[0;34m\u001b[0m\u001b[0m\n\u001b[0;32m---> 67\u001b[0;31m \u001b[0mroot\u001b[0m \u001b[0;34m=\u001b[0m \u001b[0mtk\u001b[0m\u001b[0;34m.\u001b[0m\u001b[0mTk\u001b[0m\u001b[0;34m(\u001b[0m\u001b[0;34m)\u001b[0m\u001b[0;34m\u001b[0m\u001b[0;34m\u001b[0m\u001b[0m\n\u001b[0m\u001b[1;32m     68\u001b[0m \u001b[0mapp\u001b[0m \u001b[0;34m=\u001b[0m \u001b[0mMovieBookingApp\u001b[0m\u001b[0;34m(\u001b[0m\u001b[0mroot\u001b[0m\u001b[0;34m)\u001b[0m\u001b[0;34m\u001b[0m\u001b[0;34m\u001b[0m\u001b[0m\n\u001b[1;32m     69\u001b[0m \u001b[0mroot\u001b[0m\u001b[0;34m.\u001b[0m\u001b[0mgeometry\u001b[0m\u001b[0;34m(\u001b[0m\u001b[0;34m\"400x400\"\u001b[0m\u001b[0;34m)\u001b[0m\u001b[0;34m\u001b[0m\u001b[0;34m\u001b[0m\u001b[0m\n",
            "\u001b[0;32m/usr/lib/python3.11/tkinter/__init__.py\u001b[0m in \u001b[0;36m__init__\u001b[0;34m(self, screenName, baseName, className, useTk, sync, use)\u001b[0m\n\u001b[1;32m   2324\u001b[0m                 \u001b[0mbaseName\u001b[0m \u001b[0;34m=\u001b[0m \u001b[0mbaseName\u001b[0m \u001b[0;34m+\u001b[0m \u001b[0mext\u001b[0m\u001b[0;34m\u001b[0m\u001b[0;34m\u001b[0m\u001b[0m\n\u001b[1;32m   2325\u001b[0m         \u001b[0minteractive\u001b[0m \u001b[0;34m=\u001b[0m \u001b[0;32mFalse\u001b[0m\u001b[0;34m\u001b[0m\u001b[0;34m\u001b[0m\u001b[0m\n\u001b[0;32m-> 2326\u001b[0;31m         \u001b[0mself\u001b[0m\u001b[0;34m.\u001b[0m\u001b[0mtk\u001b[0m \u001b[0;34m=\u001b[0m \u001b[0m_tkinter\u001b[0m\u001b[0;34m.\u001b[0m\u001b[0mcreate\u001b[0m\u001b[0;34m(\u001b[0m\u001b[0mscreenName\u001b[0m\u001b[0;34m,\u001b[0m \u001b[0mbaseName\u001b[0m\u001b[0;34m,\u001b[0m \u001b[0mclassName\u001b[0m\u001b[0;34m,\u001b[0m \u001b[0minteractive\u001b[0m\u001b[0;34m,\u001b[0m \u001b[0mwantobjects\u001b[0m\u001b[0;34m,\u001b[0m \u001b[0museTk\u001b[0m\u001b[0;34m,\u001b[0m \u001b[0msync\u001b[0m\u001b[0;34m,\u001b[0m \u001b[0muse\u001b[0m\u001b[0;34m)\u001b[0m\u001b[0;34m\u001b[0m\u001b[0;34m\u001b[0m\u001b[0m\n\u001b[0m\u001b[1;32m   2327\u001b[0m         \u001b[0;32mif\u001b[0m \u001b[0museTk\u001b[0m\u001b[0;34m:\u001b[0m\u001b[0;34m\u001b[0m\u001b[0;34m\u001b[0m\u001b[0m\n\u001b[1;32m   2328\u001b[0m             \u001b[0mself\u001b[0m\u001b[0;34m.\u001b[0m\u001b[0m_loadtk\u001b[0m\u001b[0;34m(\u001b[0m\u001b[0;34m)\u001b[0m\u001b[0;34m\u001b[0m\u001b[0;34m\u001b[0m\u001b[0m\n",
            "\u001b[0;31mTclError\u001b[0m: no display name and no $DISPLAY environment variable"
          ]
        }
      ],
      "source": [
        "import tkinter as tk\n",
        "from tkinter import messagebox\n",
        "\n",
        "# Sample data\n",
        "movies = {\n",
        "    \"Theatre A - Kallakurichi\": [\"Jailer\", \"Leo\", \"Master\"],\n",
        "    \"Theatre B - Kallakurichi\": [\"Beast\", \"Thunivu\", \"Varisu\"]\n",
        "}\n",
        "slots = [\"10:00 AM\", \"1:00 PM\", \"4:00 PM\", \"7:00 PM\"]\n",
        "seats = [f\"S{i}\" for i in range(1, 11)]  # 10 seats\n",
        "\n",
        "# GUI App\n",
        "class MovieBookingApp:\n",
        "    def __init__(self, root):\n",
        "        self.root = root\n",
        "        self.root.title(\"🎬 Kallakurichi Movie Booking System\")\n",
        "\n",
        "        # Dropdown for theatre\n",
        "        tk.Label(root, text=\"Select Theatre\").pack()\n",
        "        self.theatre_var = tk.StringVar()\n",
        "        self.theatre_menu = tk.OptionMenu(root, self.theatre_var, *movies.keys(), command=self.update_movies)\n",
        "        self.theatre_menu.pack()\n",
        "\n",
        "        # Dropdown for movies\n",
        "        tk.Label(root, text=\"Select Movie\").pack()\n",
        "        self.movie_var = tk.StringVar()\n",
        "        self.movie_menu = tk.OptionMenu(root, self.movie_var, \"\")\n",
        "        self.movie_menu.pack()\n",
        "\n",
        "        # Time slot\n",
        "        tk.Label(root, text=\"Select Time Slot\").pack()\n",
        "        self.slot_var = tk.StringVar()\n",
        "        self.slot_menu = tk.OptionMenu(root, self.slot_var, *slots)\n",
        "        self.slot_menu.pack()\n",
        "\n",
        "        # Seat selection\n",
        "        tk.Label(root, text=\"Select Seat\").pack()\n",
        "        self.seat_var = tk.StringVar()\n",
        "        self.seat_menu = tk.OptionMenu(root, self.seat_var, *seats)\n",
        "        self.seat_menu.pack()\n",
        "\n",
        "        # Book button\n",
        "        tk.Button(root, text=\"Book Ticket\", command=self.book_ticket, bg=\"green\", fg=\"white\").pack(pady=10)\n",
        "\n",
        "    def update_movies(self, selected_theatre):\n",
        "        movie_list = movies[selected_theatre]\n",
        "        self.movie_var.set(movie_list[0])\n",
        "        self.movie_menu['menu'].delete(0, 'end')\n",
        "        for m in movie_list:\n",
        "            self.movie_menu['menu'].add_command(label=m, command=lambda value=m: self.movie_var.set(value))\n",
        "\n",
        "    def book_ticket(self):\n",
        "        if not all([self.theatre_var.get(), self.movie_var.get(), self.slot_var.get(), self.seat_var.get()]):\n",
        "            messagebox.showwarning(\"Incomplete\", \"Please fill all fields.\")\n",
        "            return\n",
        "        msg = f\"\"\"\n",
        "🎫 Ticket Confirmed!\n",
        "Theatre: {self.theatre_var.get()}\n",
        "Movie: {self.movie_var.get()}\n",
        "Time: {self.slot_var.get()}\n",
        "Seat: {self.seat_var.get()}\n",
        "Enjoy your show! 🍿\n",
        "\"\"\"\n",
        "        messagebox.showinfo(\"Booking Successful\", msg)\n",
        "\n",
        "# Run App\n",
        "root = tk.Tk()\n",
        "app = MovieBookingApp(root)\n",
        "root.geometry(\"400x400\")\n",
        "root.mainloop()\n"
      ]
    }
  ]
}